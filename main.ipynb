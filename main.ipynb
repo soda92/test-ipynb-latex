{
 "cells": [
  {
   "cell_type": "markdown",
   "metadata": {},
   "source": [
    "$ e^{i \\pi} + 1 = 0 $"
   ]
  },
  {
   "cell_type": "markdown",
   "metadata": {},
   "source": [
    "$ \\LaTeX $"
   ]
  },
  {
   "cell_type": "markdown",
   "metadata": {},
   "source": [
    "some content"
   ]
  }
 ],
 "metadata": {
  "interpreter": {
   "hash": "466be5b6f169da7f1ff00b095a1e11345a89817b523326a24bfb94505e2d31c7"
  },
  "kernelspec": {
   "display_name": "Python 3.10.4 64-bit (system)",
   "language": "python",
   "name": "python3"
  },
  "language_info": {
   "name": "python",
   "version": "3.10.4"
  },
  "orig_nbformat": 4
 },
 "nbformat": 4,
 "nbformat_minor": 2
}
